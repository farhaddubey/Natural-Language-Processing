{
 "cells": [
  {
   "cell_type": "code",
   "execution_count": 18,
   "id": "7c1eebd5",
   "metadata": {
    "ExecuteTime": {
     "end_time": "2024-03-21T11:52:16.907851Z",
     "start_time": "2024-03-21T11:52:16.902716Z"
    }
   },
   "outputs": [],
   "source": [
    "import re"
   ]
  },
  {
   "cell_type": "code",
   "execution_count": 19,
   "id": "231842b7",
   "metadata": {
    "ExecuteTime": {
     "end_time": "2024-03-21T11:52:17.221806Z",
     "start_time": "2024-03-21T11:52:17.216857Z"
    }
   },
   "outputs": [],
   "source": [
    "chat1 = 'codebasics: you ask lot of questions 😠  1235678912, abc@xyz.com'\n",
    "chat2 = 'codebasics: here it is: (123)-567-8912, abc@xyz.com'\n",
    "chat3 = 'codebasics: yes, phone: 1235678912 email: abc@xyz.com'"
   ]
  },
  {
   "cell_type": "code",
   "execution_count": 20,
   "id": "4b049f01",
   "metadata": {
    "ExecuteTime": {
     "end_time": "2024-03-21T11:52:17.568426Z",
     "start_time": "2024-03-21T11:52:17.563583Z"
    }
   },
   "outputs": [],
   "source": [
    "pattern = '\\d{10}'\n",
    "matches = re.match(pattern, chat1)\n",
    "matches"
   ]
  },
  {
   "cell_type": "code",
   "execution_count": 22,
   "id": "067866da",
   "metadata": {
    "ExecuteTime": {
     "end_time": "2024-03-21T11:52:37.050486Z",
     "start_time": "2024-03-21T11:52:37.038152Z"
    }
   },
   "outputs": [
    {
     "data": {
      "text/plain": [
       "['412889912']"
      ]
     },
     "execution_count": 22,
     "metadata": {},
     "output_type": "execute_result"
    }
   ],
   "source": [
    "import re\n",
    "chat1='codebasics: Hello, I am having an issue with my order # 412889912'\n",
    "pattern='order[^\\d]*(\\d*)'\n",
    "matches = re.findall(pattern, chat1)\n",
    "matches"
   ]
  },
  {
   "cell_type": "markdown",
   "id": "2b3e9c35",
   "metadata": {},
   "source": [
    "/\n",
    "order[^\\d]*(\\d*)\n",
    "/\n",
    "gm\n",
    "order matches the characters order literally (case sensitive)\n",
    "Match a single character not present in the list below [^\\d]\n",
    "* matches the previous token between zero and unlimited times, as many times as possible, giving back as needed (greedy)\n",
    "\\d matches a digit (equivalent to [0-9])\n",
    "1st Capturing Group (\\d*)\n",
    "\\d matches a digit (equivalent to [0-9])\n",
    "* matches the previous token between zero and unlimited times, as many times as possible, giving back as needed (greedy)"
   ]
  },
  {
   "cell_type": "markdown",
   "id": "0ebebe34",
   "metadata": {},
   "source": [
    "<p style=\"color:red\">order matches the characters order literally (case sensitive)</p>\n",
    "<p style=\"color:yellow\">\\d matches a digit bn [0-9]</p>\n",
    "<h3 style=\"color:red\">oth Capturing Group [^\\d]</h3>\n",
    "<p style=\"color:yellow\">Match a single character not present in the list below [^\\d]</p>\n",
    "<h3 style=\"color:red\">1st Capturing Group (\\d*)</h3>\n",
    "<p style=\"color:yellow\">\\d matches a digit (equivalent to [0-9])</p>\n",
    "<p style=\"color:blue\">\n",
    "* matches the previous token between zero and unlimited times, as many times as possible, giving back as needed (greedy</p>\n"
   ]
  },
  {
   "cell_type": "code",
   "execution_count": 23,
   "id": "6afb7977",
   "metadata": {
    "ExecuteTime": {
     "end_time": "2024-03-21T12:28:14.927421Z",
     "start_time": "2024-03-21T12:28:14.917648Z"
    }
   },
   "outputs": [
    {
     "data": {
      "text/plain": [
       "['412889912']"
      ]
     },
     "execution_count": 23,
     "metadata": {},
     "output_type": "execute_result"
    }
   ],
   "source": [
    "chat2='codebasics: I have a problem with my order number 412889912'\n",
    "pattern='order[^\\d]*(\\d*)'\n",
    "matches=re.findall(pattern, chat2)\n",
    "matches"
   ]
  },
  {
   "cell_type": "code",
   "execution_count": 24,
   "id": "930c8131",
   "metadata": {
    "ExecuteTime": {
     "end_time": "2024-03-21T12:29:00.850472Z",
     "start_time": "2024-03-21T12:29:00.840285Z"
    }
   },
   "outputs": [
    {
     "data": {
      "text/plain": [
       "['412889912']"
      ]
     },
     "execution_count": 24,
     "metadata": {},
     "output_type": "execute_result"
    }
   ],
   "source": [
    "chat3='codebasics: My order 412889912 is having an issue, I was charged 300$ when online it says 280$'\n",
    "pattern='order[^\\d]*(\\d*)'\n",
    "matches=re.findall(pattern, chat3)\n",
    "matches"
   ]
  },
  {
   "cell_type": "code",
   "execution_count": 25,
   "id": "b873a4f1",
   "metadata": {
    "ExecuteTime": {
     "end_time": "2024-03-21T12:33:52.288309Z",
     "start_time": "2024-03-21T12:33:52.282502Z"
    }
   },
   "outputs": [],
   "source": [
    "def get_pattern_match(pattern, text):\n",
    "    matches =re.findall(pattern, text)\n",
    "    if matches:\n",
    "        return matches[0]"
   ]
  },
  {
   "cell_type": "code",
   "execution_count": 26,
   "id": "34a8e37a",
   "metadata": {
    "ExecuteTime": {
     "end_time": "2024-03-21T12:34:33.059417Z",
     "start_time": "2024-03-21T12:34:33.052441Z"
    }
   },
   "outputs": [
    {
     "data": {
      "text/plain": [
       "'412889912'"
      ]
     },
     "execution_count": 26,
     "metadata": {},
     "output_type": "execute_result"
    }
   ],
   "source": [
    "get_pattern_match('order[^\\d]*(\\d*)', chat1)"
   ]
  },
  {
   "cell_type": "markdown",
   "id": "5c67e8f1",
   "metadata": {},
   "source": [
    "Retrieving email id and phone"
   ]
  },
  {
   "cell_type": "code",
   "execution_count": 27,
   "id": "370c34d1",
   "metadata": {
    "ExecuteTime": {
     "end_time": "2024-03-21T12:34:56.310350Z",
     "start_time": "2024-03-21T12:34:56.304877Z"
    }
   },
   "outputs": [],
   "source": [
    "chat1 = 'codebasics: you ask lot of questions 😠  1235678912, abc@xyz.com'\n",
    "chat2 = 'codebasics: here it is: (123)-567-8912, abc@xyz.com'\n",
    "chat3 = 'codebasics: yes, phone: 1235678912 email: abc@xyz.com'"
   ]
  },
  {
   "cell_type": "code",
   "execution_count": 28,
   "id": "4ad328f0",
   "metadata": {
    "ExecuteTime": {
     "end_time": "2024-03-21T12:35:40.835488Z",
     "start_time": "2024-03-21T12:35:40.825898Z"
    }
   },
   "outputs": [
    {
     "data": {
      "text/plain": [
       "'abc@xyz.com'"
      ]
     },
     "execution_count": 28,
     "metadata": {},
     "output_type": "execute_result"
    }
   ],
   "source": [
    "get_pattern_match('[a-zA-Z0-9_]*@[a-z]*\\.[a-zA-Z0-9]*',chat1)"
   ]
  },
  {
   "cell_type": "code",
   "execution_count": null,
   "id": "de435b22",
   "metadata": {},
   "outputs": [],
   "source": [
    "<p style=\"color:red\">Match a single character present in the list below [a-zA-Z0-9_]</p>\n",
    "<p style=\"color:yellow\">\n",
    "* matches the previous token between zero and unlimited times, as many times as possible, giving back as needed (greedy)\n",
    "</p>\n",
    "<p style=\"color:red\">a-z matches a single character in the range between a (index 97) and z (index 122) (case sensitive)</p>\n",
    "\n",
    "<p style=\"color:red\">A-Z matches a single character in the range between A (index 65) and Z (index 90) (case sensitive)</p>\n",
    "\n",
    "<p style=\"color:red\">0-9 matches a single character in the range between 0 (index 48) and 9 (index 57) (case sensitive)</p>\n",
    "\n",
    "<p style=\"color:red\">_ matches the character _ with index 9510 (5F16 or 1378) literally (case sensitive)</p>\n",
    "<p style=\"color:red\">_ matches the character _ with index 9510 (5F16 or 1378) literally (case sensitive)</p>\n",
    "\n",
    "<h3 style=\"color:red\">oth Capturing Group [^\\d]</h3>\n",
    "<p style=\"color:yellow\">Match a single character not present in the list below [^\\d]</p>\n",
    "<h3 style=\"color:red\">1st Capturing Group (\\d*)</h3>\n",
    "<p style=\"color:yellow\">\\d matches a digit (equivalent to [0-9])</p>\n",
    "<p style=\"color:blue\">\n",
    "* matches the previous token between zero and unlimited times, as many times as possible, giving back as needed (greedy</p>\n"
   ]
  }
 ],
 "metadata": {
  "kernelspec": {
   "display_name": "Python 3 (ipykernel)",
   "language": "python",
   "name": "python3"
  },
  "language_info": {
   "codemirror_mode": {
    "name": "ipython",
    "version": 3
   },
   "file_extension": ".py",
   "mimetype": "text/x-python",
   "name": "python",
   "nbconvert_exporter": "python",
   "pygments_lexer": "ipython3",
   "version": "3.11.5"
  },
  "toc": {
   "base_numbering": 1,
   "nav_menu": {},
   "number_sections": true,
   "sideBar": true,
   "skip_h1_title": false,
   "title_cell": "Table of Contents",
   "title_sidebar": "Contents",
   "toc_cell": false,
   "toc_position": {},
   "toc_section_display": true,
   "toc_window_display": false
  },
  "varInspector": {
   "cols": {
    "lenName": 16,
    "lenType": 16,
    "lenVar": 40
   },
   "kernels_config": {
    "python": {
     "delete_cmd_postfix": "",
     "delete_cmd_prefix": "del ",
     "library": "var_list.py",
     "varRefreshCmd": "print(var_dic_list())"
    },
    "r": {
     "delete_cmd_postfix": ") ",
     "delete_cmd_prefix": "rm(",
     "library": "var_list.r",
     "varRefreshCmd": "cat(var_dic_list()) "
    }
   },
   "types_to_exclude": [
    "module",
    "function",
    "builtin_function_or_method",
    "instance",
    "_Feature"
   ],
   "window_display": false
  }
 },
 "nbformat": 4,
 "nbformat_minor": 5
}
