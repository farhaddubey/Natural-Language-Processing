{
 "cells": [
  {
   "cell_type": "code",
   "execution_count": 18,
   "id": "7c1eebd5",
   "metadata": {
    "ExecuteTime": {
     "end_time": "2024-03-21T11:52:16.907851Z",
     "start_time": "2024-03-21T11:52:16.902716Z"
    }
   },
   "outputs": [],
   "source": [
    "import re"
   ]
  },
  {
   "cell_type": "code",
   "execution_count": 19,
   "id": "747387e7",
   "metadata": {
    "ExecuteTime": {
     "end_time": "2024-03-21T11:52:17.221806Z",
     "start_time": "2024-03-21T11:52:17.216857Z"
    }
   },
   "outputs": [],
   "source": [
    "chat1 = 'codebasics: you ask lot of questions 😠  1235678912, abc@xyz.com'\n",
    "chat2 = 'codebasics: here it is: (123)-567-8912, abc@xyz.com'\n",
    "chat3 = 'codebasics: yes, phone: 1235678912 email: abc@xyz.com'"
   ]
  },
  {
   "cell_type": "code",
   "execution_count": 20,
   "id": "b6a6d6b3",
   "metadata": {
    "ExecuteTime": {
     "end_time": "2024-03-21T11:52:17.568426Z",
     "start_time": "2024-03-21T11:52:17.563583Z"
    }
   },
   "outputs": [],
   "source": [
    "pattern = '\\d{10}'\n",
    "matches = re.match(pattern, chat1)\n",
    "matches"
   ]
  },
  {
   "cell_type": "code",
   "execution_count": 22,
   "id": "cb2d2439",
   "metadata": {
    "ExecuteTime": {
     "end_time": "2024-03-21T11:52:37.050486Z",
     "start_time": "2024-03-21T11:52:37.038152Z"
    }
   },
   "outputs": [
    {
     "data": {
      "text/plain": [
       "['412889912']"
      ]
     },
     "execution_count": 22,
     "metadata": {},
     "output_type": "execute_result"
    }
   ],
   "source": [
    "import re\n",
    "chat1='codebasics: Hello, I am having an issue with my order # 412889912'\n",
    "pattern='order[^\\d]*(\\d*)'\n",
    "matches = re.findall(pattern, chat1)\n",
    "matches"
   ]
  },
  {
   "cell_type": "markdown",
   "id": "c0e56911",
   "metadata": {},
   "source": [
    "/\n",
    "order[^\\d]*(\\d*)\n",
    "/\n",
    "gm\n",
    "order matches the characters order literally (case sensitive)\n",
    "Match a single character not present in the list below [^\\d]\n",
    "* matches the previous token between zero and unlimited times, as many times as possible, giving back as needed (greedy)\n",
    "\\d matches a digit (equivalent to [0-9])\n",
    "1st Capturing Group (\\d*)\n",
    "\\d matches a digit (equivalent to [0-9])\n",
    "* matches the previous token between zero and unlimited times, as many times as possible, giving back as needed (greedy)"
   ]
  },
  {
   "cell_type": "markdown",
   "id": "8785801c",
   "metadata": {},
   "source": [
    "<p style=\"color:red\">order matches the characters order literally (case sensitive)</p>\n",
    "<p style=\"color:yellow\">\\d matches a digit bn [0-9]</p>\n",
    "<h3 style=\"color:red\">oth Capturing Group [^\\d]</h3>\n",
    "<p style=\"color:yellow\">Match a single character not present in the list below [^\\d]</p>\n",
    "<h3 style=\"color:red\">1st Capturing Group (\\d*)</h3>\n",
    "<p style=\"color:yellow\">\\d matches a digit (equivalent to [0-9])</p>\n",
    "<p style=\"color:blue\">\n",
    "* matches the previous token between zero and unlimited times, as many times as possible, giving back as needed (greedy</p>\n"
   ]
  },
  {
   "cell_type": "code",
   "execution_count": 23,
   "id": "92a5e0cb",
   "metadata": {
    "ExecuteTime": {
     "end_time": "2024-03-21T12:28:14.927421Z",
     "start_time": "2024-03-21T12:28:14.917648Z"
    }
   },
   "outputs": [
    {
     "data": {
      "text/plain": [
       "['412889912']"
      ]
     },
     "execution_count": 23,
     "metadata": {},
     "output_type": "execute_result"
    }
   ],
   "source": [
    "chat2='codebasics: I have a problem with my order number 412889912'\n",
    "pattern='order[^\\d]*(\\d*)'\n",
    "matches=re.findall(pattern, chat2)\n",
    "matches"
   ]
  },
  {
   "cell_type": "code",
   "execution_count": 24,
   "id": "03187921",
   "metadata": {
    "ExecuteTime": {
     "end_time": "2024-03-21T12:29:00.850472Z",
     "start_time": "2024-03-21T12:29:00.840285Z"
    }
   },
   "outputs": [
    {
     "data": {
      "text/plain": [
       "['412889912']"
      ]
     },
     "execution_count": 24,
     "metadata": {},
     "output_type": "execute_result"
    }
   ],
   "source": [
    "chat3='codebasics: My order 412889912 is having an issue, I was charged 300$ when online it says 280$'\n",
    "pattern='order[^\\d]*(\\d*)'\n",
    "matches=re.findall(pattern, chat3)\n",
    "matches"
   ]
  },
  {
   "cell_type": "code",
   "execution_count": 25,
   "id": "fbabf29a",
   "metadata": {
    "ExecuteTime": {
     "end_time": "2024-03-21T12:33:52.288309Z",
     "start_time": "2024-03-21T12:33:52.282502Z"
    }
   },
   "outputs": [],
   "source": [
    "def get_pattern_match(pattern, text):\n",
    "    matches =re.findall(pattern, text)\n",
    "    if matches:\n",
    "        return matches[0]"
   ]
  },
  {
   "cell_type": "code",
   "execution_count": 26,
   "id": "842fb67c",
   "metadata": {
    "ExecuteTime": {
     "end_time": "2024-03-21T12:34:33.059417Z",
     "start_time": "2024-03-21T12:34:33.052441Z"
    }
   },
   "outputs": [
    {
     "data": {
      "text/plain": [
       "'412889912'"
      ]
     },
     "execution_count": 26,
     "metadata": {},
     "output_type": "execute_result"
    }
   ],
   "source": [
    "get_pattern_match('order[^\\d]*(\\d*)', chat1)"
   ]
  },
  {
   "cell_type": "markdown",
   "id": "32b1b66b",
   "metadata": {},
   "source": [
    "Retrieving email id and phone"
   ]
  },
  {
   "cell_type": "code",
   "execution_count": 27,
   "id": "217e334e",
   "metadata": {
    "ExecuteTime": {
     "end_time": "2024-03-21T12:34:56.310350Z",
     "start_time": "2024-03-21T12:34:56.304877Z"
    }
   },
   "outputs": [],
   "source": [
    "chat1 = 'codebasics: you ask lot of questions 😠  1235678912, abc@xyz.com'\n",
    "chat2 = 'codebasics: here it is: (123)-567-8912, abc@xyz.com'\n",
    "chat3 = 'codebasics: yes, phone: 1235678912 email: abc@xyz.com'"
   ]
  },
  {
   "cell_type": "code",
   "execution_count": 28,
   "id": "f8d8fbca",
   "metadata": {
    "ExecuteTime": {
     "end_time": "2024-03-21T12:35:40.835488Z",
     "start_time": "2024-03-21T12:35:40.825898Z"
    }
   },
   "outputs": [
    {
     "data": {
      "text/plain": [
       "'abc@xyz.com'"
      ]
     },
     "execution_count": 28,
     "metadata": {},
     "output_type": "execute_result"
    }
   ],
   "source": [
    "get_pattern_match('[a-zA-Z0-9_]*@[a-z]*\\.[a-zA-Z0-9]*',chat1)"
   ]
  },
  {
   "cell_type": "markdown",
   "id": "ea5b25fd",
   "metadata": {
    "ExecuteTime": {
     "end_time": "2024-03-21T12:47:31.758990Z",
     "start_time": "2024-03-21T12:47:31.739806Z"
    }
   },
   "source": [
    "<h1 style=\"color:red\">Match a single character present in the list below [a-zA-Z0-9_]</h1>\n",
    "<p style=\"color:yellow\">\n",
    "* matches the previous token between zero and unlimited times, as many times as possible, giving back as needed (greedy)\n",
    "</p>\n",
    "<p style=\"color:orange\">a-z matches a single character in the range between a (index 97) and z (index 122) (case sensitive)</p>\n",
    "\n",
    "<p style=\"color:teal\">A-Z matches a single character in the range between A (index 65) and Z (index 90) (case sensitive)</p>\n",
    "\n",
    "<p style=\"color:orange\">0-9 matches a single character in the range between 0 (index 48) and 9 (index 57) (case sensitive)</p>\n",
    "\n",
    "<p style=\"color:cyan\">_ matches the character _ with index 9510 (5F16 or 1378) literally (case sensitive)</p>\n",
    "<p style=\"color:blue\">@ matches the character @ with index 6410 (4016 or 1008) literally (case sensitive)</p>\n",
    "\n",
    "<h3 style=\"color:red\">Match a single character present in the list below [a-z]</h3>\n",
    "<p style=\"color:yellow\">* matches the previous token between zero and unlimited times, as many times as possible, giving back as needed (greedy)</p>\n",
    "<p style=\"color:yellow\">a-z matches a single character in the range between a (index 97) and z (index 122) (case sensitive)</p>\n",
    "<p style=\"color:blue\">\n",
    "\\. matches the character . with index 4610 (2E16 or 568) literally (case sensitive)</p>\n",
    "\n",
    "<h3 style=\"color:red\">Match a single character present in the list below [a-z]</h3>\n",
    "<p style=\"color:yellow\">* matches the previous token between zero and unlimited times, as many times as possible, giving back as needed (greedy)</p>\n",
    "<p style=\"color:yellow\">a-z matches a single character in the range between a (index 97) and z (index 122) (case sensitive)</p>\n",
    "<p style=\"color:blue\">\n",
    "\\. matches the character . with index 4610 (2E16 or 568) literally (case sensitive)</p>\n",
    "\n",
    "<h3 style=\"color:cyan\">\n",
    "Match a single character present in the list below [a-zA-Z0-9]</h3>\n",
    "<p style=\"color:teal\">a-z matches a single character in the range between a (index 97) and z (index 122) (case sensitive)</p>\n",
    "\n",
    "<p style=\"color:red\">A-Z matches a single character in the range between A (index 65) and Z (index 90) (case sensitive)</p>\n",
    "\n",
    "<p style=\"color:sky\">0-9 matches a single character in the range between 0 (index 48) and 9 (index 57) (case sensitive)</p>\n",
    "\n",
    "<p style=\"color:red\">_ matches the character _ with index 9510 (5F16 or 1378) literally (case sensitive)</p>\n",
    "<p style=\"color:yellow\">@ matches the character @ with index 6410 (4016 or 1008) literally (case sensitive)</p>\n",
    "\n",
    "<h3 style=\"color:red\">Match a single character present in the list below [a-z]</h3>\n",
    "<p style=\"color:yellow\">* matches the previous token between zero and unlimited times, as many times as possible, giving back as needed (greedy)</p>\n"
   ]
  },
  {
   "cell_type": "code",
   "execution_count": 31,
   "id": "ca03afe3",
   "metadata": {
    "ExecuteTime": {
     "end_time": "2024-03-21T12:50:08.947324Z",
     "start_time": "2024-03-21T12:50:08.938163Z"
    }
   },
   "outputs": [
    {
     "data": {
      "text/plain": [
       "'abc@xyz.com'"
      ]
     },
     "execution_count": 31,
     "metadata": {},
     "output_type": "execute_result"
    }
   ],
   "source": [
    "get_pattern_match('[a-zA-Z0-9_]*@[a-z]*\\.[a-zA-Z0-9]*',chat2)"
   ]
  },
  {
   "cell_type": "code",
   "execution_count": 32,
   "id": "78d31447",
   "metadata": {
    "ExecuteTime": {
     "end_time": "2024-03-21T12:51:13.745940Z",
     "start_time": "2024-03-21T12:51:13.738140Z"
    }
   },
   "outputs": [
    {
     "data": {
      "text/plain": [
       "'abc@xyz.com'"
      ]
     },
     "execution_count": 32,
     "metadata": {},
     "output_type": "execute_result"
    }
   ],
   "source": [
    "get_pattern_match('[a-zA-Z0-9_]*@[a-z]*\\.[a-zA-Z0-9]*',chat3)"
   ]
  },
  {
   "cell_type": "markdown",
   "id": "1e3120d3",
   "metadata": {},
   "source": [
    "<h2 style=\"color:blue\">Extracting Phone No.</h2>"
   ]
  },
  {
   "cell_type": "code",
   "execution_count": 33,
   "id": "49eef5b8",
   "metadata": {
    "ExecuteTime": {
     "end_time": "2024-03-21T12:55:54.773274Z",
     "start_time": "2024-03-21T12:55:54.764110Z"
    }
   },
   "outputs": [
    {
     "data": {
      "text/plain": [
       "('1235678912', '')"
      ]
     },
     "execution_count": 33,
     "metadata": {},
     "output_type": "execute_result"
    }
   ],
   "source": [
    "get_pattern_match('(\\d{10})|(\\(\\d{3}\\)-\\d{3}-\\d{4})',chat1)"
   ]
  },
  {
   "cell_type": "markdown",
   "id": "9efff9ee",
   "metadata": {
    "ExecuteTime": {
     "end_time": "2024-03-21T13:03:36.321956Z",
     "start_time": "2024-03-21T13:03:36.306004Z"
    }
   },
   "source": [
    "<h1 style=\"color:red\"> | --->1st Alternative (\\d{10})</h1>\n",
    "<h3 style=\"color:pink\"> | --->1st Capturing Group (\\d{10})</h3>\n",
    "<p style=\"color:blue\">\\d matches a digit (equivalent to [0-9])</br>\n",
    "{10} matches the previous token exactly 10 times</p>\n",
    "<h1 style=\"color:red\"> | --->2nd Alternative (\\ (\\d{3}\\)-\\d{3}-\\d{4})</h1>\n",
    "<h3 style=\"color:pink\"> | --->2nd Capturing Group (\\(\\d{3}\\)-\\d{3}-\\d{4})\n",
    "\\( matches the character ( with index 4010 (2816 or 508) literally (case sensitive)</h3>\n",
    "<p style=\"color:blue\">\\d matches a digit (equivalent to [0-9])</p>\n",
    "<p style=\"color:yellow\">{3} matches the previous token exactly 3 times\n",
    "</p>\n",
    "                          \n",
    "<p style=\"color:teal\">\\) matches the character ) with index 4110 (2916 or 518) literally (case sensitive)</p>\n",
    "                          \n",
    "<p style=\"color:orange\">- matches the character - with index 4510 (2D16 or 558) literally (case sensitive)</p>\n",
    "                          \n",
    "<p style=\"color:blue\">\\d matches a digit (equivalent to [0-9])</br>\n",
    "{3} matches the previous token exactly 3 times</p>\n",
    "\n",
    "<p style=\"color:orange\">- matches the character - with index 4510 (2D16 or 558) literally (case sensitive)</p>\n",
    "<p style=\"color:yellow\">\\d matches a digit (equivalent to [0-9])\n",
    "{4} matches the previous token exactly 4 times</p>"
   ]
  },
  {
   "cell_type": "code",
   "execution_count": 36,
   "id": "600dbc37",
   "metadata": {
    "ExecuteTime": {
     "end_time": "2024-03-21T13:05:59.930959Z",
     "start_time": "2024-03-21T13:05:59.922895Z"
    }
   },
   "outputs": [
    {
     "data": {
      "text/plain": [
       "('', '(123)-567-8912')"
      ]
     },
     "execution_count": 36,
     "metadata": {},
     "output_type": "execute_result"
    }
   ],
   "source": [
    "get_pattern_match('(\\d{10})|(\\(\\d{3}\\)-\\d{3}-\\d{4})', chat2)"
   ]
  },
  {
   "cell_type": "code",
   "execution_count": 37,
   "id": "e3aecff3",
   "metadata": {
    "ExecuteTime": {
     "end_time": "2024-03-21T13:06:44.558954Z",
     "start_time": "2024-03-21T13:06:44.550683Z"
    }
   },
   "outputs": [
    {
     "data": {
      "text/plain": [
       "('1235678912', '')"
      ]
     },
     "execution_count": 37,
     "metadata": {},
     "output_type": "execute_result"
    }
   ],
   "source": [
    "get_pattern_match('(\\d{10})|(\\(\\d{3})\\)-\\d{3}-\\d{4}', chat3)"
   ]
  },
  {
   "cell_type": "markdown",
   "id": "b142d34f",
   "metadata": {},
   "source": [
    "<h1 style=\"color:teal\">RegEx for Information Extraction</h1>"
   ]
  },
  {
   "cell_type": "code",
   "execution_count": 38,
   "id": "a1cff5fa",
   "metadata": {
    "ExecuteTime": {
     "end_time": "2024-03-21T13:07:36.236262Z",
     "start_time": "2024-03-21T13:07:36.227298Z"
    }
   },
   "outputs": [],
   "source": [
    "text='''\n",
    "Born\tElon Reeve Musk\n",
    "June 28, 1971 (age 50)\n",
    "Pretoria, Transvaal, South Africa\n",
    "Citizenship\t\n",
    "South Africa (1971–present)\n",
    "Canada (1971–present)\n",
    "United States (2002–present)\n",
    "Education\tUniversity of Pennsylvania (BS, BA)\n",
    "Title\t\n",
    "Founder, CEO and Chief Engineer of SpaceX\n",
    "CEO and product architect of Tesla, Inc.\n",
    "Founder of The Boring Company and X.com (now part of PayPal)\n",
    "Co-founder of Neuralink, OpenAI, and Zip2\n",
    "Spouse(s)\t\n",
    "Justine Wilson\n",
    "​\n",
    "​(m. 2000; div. 2008)​\n",
    "Talulah Riley\n",
    "​\n",
    "​(m. 2010; div. 2012)​\n",
    "​\n",
    "​(m. 2013; div. 2016)\n",
    "'''"
   ]
  },
  {
   "cell_type": "code",
   "execution_count": 39,
   "id": "3c44eede",
   "metadata": {
    "ExecuteTime": {
     "end_time": "2024-03-21T13:07:51.114888Z",
     "start_time": "2024-03-21T13:07:51.105903Z"
    }
   },
   "outputs": [
    {
     "data": {
      "text/plain": [
       "'50'"
      ]
     },
     "execution_count": 39,
     "metadata": {},
     "output_type": "execute_result"
    }
   ],
   "source": [
    "get_pattern_match(r'age (\\d+)', text)"
   ]
  },
  {
   "cell_type": "code",
   "execution_count": 40,
   "id": "d20f60db",
   "metadata": {
    "ExecuteTime": {
     "end_time": "2024-03-21T13:10:11.047813Z",
     "start_time": "2024-03-21T13:10:11.039531Z"
    }
   },
   "outputs": [
    {
     "data": {
      "text/plain": [
       "'Elon Reeve Musk'"
      ]
     },
     "execution_count": 40,
     "metadata": {},
     "output_type": "execute_result"
    }
   ],
   "source": [
    "get_pattern_match(r'Born(.*)\\n', text).strip()"
   ]
  },
  {
   "cell_type": "markdown",
   "id": "ef43ecc7",
   "metadata": {
    "ExecuteTime": {
     "end_time": "2024-03-21T13:14:32.028764Z",
     "start_time": "2024-03-21T13:14:32.020365Z"
    }
   },
   "source": [
    "<li style=\"color:yellow\">Born matches the characters Born literally (case sensitive)</li>\n",
    "<li style=\"color:cyan\">. matches any character (except for line terminators)</li>\n",
    "<li style=\"color:teal\">\\n matches a line-feed (newline) character (ASCII 10)</li>"
   ]
  },
  {
   "cell_type": "code",
   "execution_count": 44,
   "id": "edd73629",
   "metadata": {
    "ExecuteTime": {
     "end_time": "2024-03-21T13:17:27.998289Z",
     "start_time": "2024-03-21T13:17:27.990075Z"
    }
   },
   "outputs": [
    {
     "data": {
      "text/plain": [
       "'June 28, 1971 '"
      ]
     },
     "execution_count": 44,
     "metadata": {},
     "output_type": "execute_result"
    }
   ],
   "source": [
    "get_pattern_match(r'Born.*\\n(.*)\\(age', text)"
   ]
  },
  {
   "cell_type": "code",
   "execution_count": 45,
   "id": "779fd37d",
   "metadata": {
    "ExecuteTime": {
     "end_time": "2024-03-21T13:18:19.377902Z",
     "start_time": "2024-03-21T13:18:19.369035Z"
    }
   },
   "outputs": [],
   "source": [
    "def extract_personal_information(text):\n",
    "    age = get_pattern_match('age (\\d+)', text)\n",
    "    full_name = get_pattern_match('Born(.*)\\n', text)\n",
    "    birth_date = get_pattern_match('Born.*\\n(.*)\\(age', text)\n",
    "    birth_place = get_pattern_match('\\(age.*\\n(.*)', text)\n",
    "    return {\n",
    "        'age': int(age),\n",
    "        'name': full_name.strip(),\n",
    "        'birth_date': birth_date.strip(),\n",
    "        'birth_place': birth_place.strip()\n",
    "    }"
   ]
  },
  {
   "cell_type": "code",
   "execution_count": 46,
   "id": "d065b07e",
   "metadata": {
    "ExecuteTime": {
     "end_time": "2024-03-21T13:18:20.623085Z",
     "start_time": "2024-03-21T13:18:20.612201Z"
    }
   },
   "outputs": [
    {
     "data": {
      "text/plain": [
       "{'age': 50,\n",
       " 'name': 'Elon Reeve Musk',\n",
       " 'birth_date': 'June 28, 1971',\n",
       " 'birth_place': 'Pretoria, Transvaal, South Africa'}"
      ]
     },
     "execution_count": 46,
     "metadata": {},
     "output_type": "execute_result"
    }
   ],
   "source": [
    "extract_personal_information(text)\n"
   ]
  },
  {
   "cell_type": "code",
   "execution_count": 47,
   "id": "c9931c1e",
   "metadata": {
    "ExecuteTime": {
     "end_time": "2024-03-21T13:18:32.655274Z",
     "start_time": "2024-03-21T13:18:32.641011Z"
    }
   },
   "outputs": [
    {
     "data": {
      "text/plain": [
       "{'age': 64,\n",
       " 'name': 'Mukesh Dhirubhai Ambani',\n",
       " 'birth_date': '19 April 1957',\n",
       " 'birth_place': 'Aden, Colony of Aden'}"
      ]
     },
     "execution_count": 47,
     "metadata": {},
     "output_type": "execute_result"
    }
   ],
   "source": [
    "text = '''\n",
    "Born\tMukesh Dhirubhai Ambani\n",
    "19 April 1957 (age 64)\n",
    "Aden, Colony of Aden\n",
    "(present-day Yemen)[1][2]\n",
    "Nationality\tIndian\n",
    "Alma mater\t\n",
    "St. Xavier's College, Mumbai\n",
    "Institute of Chemical Technology (B.E.)\n",
    "Stanford University (drop-out)\n",
    "Occupation\tChairman and MD, Reliance Industries\n",
    "Spouse(s)\tNita Ambani ​(m. 1985)​[3]\n",
    "Children\t3\n",
    "Parent(s)\t\n",
    "Dhirubhai Ambani (father)\n",
    "Kokilaben Ambani (mother)\n",
    "Relatives\tAnil Ambani (brother)\n",
    "Tina Ambani (sister-in-law)\n",
    "'''\n",
    "extract_personal_information(text)"
   ]
  },
  {
   "cell_type": "code",
   "execution_count": null,
   "id": "ceed829d",
   "metadata": {},
   "outputs": [],
   "source": []
  }
 ],
 "metadata": {
  "kernelspec": {
   "display_name": "Python 3 (ipykernel)",
   "language": "python",
   "name": "python3"
  },
  "language_info": {
   "codemirror_mode": {
    "name": "ipython",
    "version": 3
   },
   "file_extension": ".py",
   "mimetype": "text/x-python",
   "name": "python",
   "nbconvert_exporter": "python",
   "pygments_lexer": "ipython3",
   "version": "3.11.5"
  },
  "toc": {
   "base_numbering": 1,
   "nav_menu": {},
   "number_sections": true,
   "sideBar": true,
   "skip_h1_title": false,
   "title_cell": "Table of Contents",
   "title_sidebar": "Contents",
   "toc_cell": false,
   "toc_position": {},
   "toc_section_display": true,
   "toc_window_display": false
  },
  "varInspector": {
   "cols": {
    "lenName": 16,
    "lenType": 16,
    "lenVar": 40
   },
   "kernels_config": {
    "python": {
     "delete_cmd_postfix": "",
     "delete_cmd_prefix": "del ",
     "library": "var_list.py",
     "varRefreshCmd": "print(var_dic_list())"
    },
    "r": {
     "delete_cmd_postfix": ") ",
     "delete_cmd_prefix": "rm(",
     "library": "var_list.r",
     "varRefreshCmd": "cat(var_dic_list()) "
    }
   },
   "types_to_exclude": [
    "module",
    "function",
    "builtin_function_or_method",
    "instance",
    "_Feature"
   ],
   "window_display": false
  }
 },
 "nbformat": 4,
 "nbformat_minor": 5
}
